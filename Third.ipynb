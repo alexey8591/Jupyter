{
  "nbformat": 4,
  "nbformat_minor": 0,
  "metadata": {
    "colab": {
      "name": "Third.ipynb",
      "provenance": [],
      "authorship_tag": "ABX9TyP+4lCZZM+NK7QbzQO3iKn1",
      "include_colab_link": true
    },
    "kernelspec": {
      "name": "python3",
      "display_name": "Python 3"
    },
    "language_info": {
      "name": "python"
    }
  },
  "cells": [
    {
      "cell_type": "markdown",
      "metadata": {
        "id": "view-in-github",
        "colab_type": "text"
      },
      "source": [
        "<a href=\"https://colab.research.google.com/github/alexey8591/Jupyter/blob/main/Third.ipynb\" target=\"_parent\"><img src=\"https://colab.research.google.com/assets/colab-badge.svg\" alt=\"Open In Colab\"/></a>"
      ]
    },
    {
      "cell_type": "markdown",
      "source": [
        "# Третий файл"
      ],
      "metadata": {
        "id": "J0cpNyHpCZvZ"
      }
    },
    {
      "cell_type": "code",
      "execution_count": 2,
      "metadata": {
        "colab": {
          "base_uri": "https://localhost:8080/"
        },
        "id": "qp18uJfcBY5N",
        "outputId": "f0f0ffef-0065-47ce-aed0-d804ea18ae9b"
      },
      "outputs": [
        {
          "output_type": "stream",
          "name": "stdout",
          "text": [
            "Hello World!\n"
          ]
        }
      ],
      "source": [
        "print('Hello World!')\n"
      ]
    },
    {
      "cell_type": "code",
      "source": [
        "import os \n",
        "import math\n",
        "from scipy.stats import norm"
      ],
      "metadata": {
        "id": "TmS3IZNaPbmo"
      },
      "execution_count": null,
      "outputs": []
    },
    {
      "cell_type": "markdown",
      "source": [
        "# Функция закрытия программы"
      ],
      "metadata": {
        "id": "NAYjPWoFPz6o"
      }
    },
    {
      "cell_type": "code",
      "source": [
        "def do_close():\n",
        "    root.destroy()"
      ],
      "metadata": {
        "id": "M8ZhSS1mP26U"
      },
      "execution_count": 2,
      "outputs": []
    },
    {
      "cell_type": "markdown",
      "source": [
        "# Функция форматирования процентов"
      ],
      "metadata": {
        "id": "J70uIYMUQInD"
      }
    },
    {
      "cell_type": "code",
      "source": [
        "def num_percent(num):\n",
        "    return \"{:.2f}\".format(num*100).rjust(10) +'%'\n",
        "     "
      ],
      "metadata": {
        "id": "Zonf2bu6QNkZ"
      },
      "execution_count": null,
      "outputs": []
    },
    {
      "cell_type": "markdown",
      "source": [
        "def do_processing():"
      ],
      "metadata": {
        "id": "R8lgTyl9QVM0"
      }
    },
    {
      "cell_type": "markdown",
      "source": [
        "# Считывание данных из полей ввода"
      ],
      "metadata": {
        "id": "TLQim_xlQeRY"
      }
    },
    {
      "cell_type": "code",
      "source": [
        "n1=int(entVisitors1.get()) #Преобразуем данные в integers\n",
        "    c1=int(entConversions1.get())\n",
        "    n2=int(entVisitors2.get())\n",
        "    c2=int(entConversions2.get())\n",
        "    "
      ],
      "metadata": {
        "id": "DFY9rM9xQfy3"
      },
      "execution_count": null,
      "outputs": []
    },
    {
      "cell_type": "code",
      "source": [
        "# Проверка данных из полей ввода"
      ],
      "metadata": {
        "id": "-LtrLBbCQmJc"
      },
      "execution_count": null,
      "outputs": []
    },
    {
      "cell_type": "code",
      "source": [
        "if n1<=0 or n2<=0:\n",
        "        mb.showerror(title=\"Ошибка\", message=\"Неверное количество посетителей\")\n",
        "        return\n",
        "        "
      ],
      "metadata": {
        "id": "QJXlpezWQqOC"
      },
      "execution_count": null,
      "outputs": []
    },
    {
      "cell_type": "markdown",
      "source": [
        "#Открытие окна результатов"
      ],
      "metadata": {
        "id": "pLq58If2QzKm"
      }
    },
    {
      "cell_type": "code",
      "source": [
        "popup_window(n1,c1,n2,c2) #Вызываем окно уже с этими параметрами"
      ],
      "metadata": {
        "id": "nYXXPkW7Q4xL"
      },
      "execution_count": null,
      "outputs": []
    },
    {
      "cell_type": "code",
      "source": [
        "\n",
        "#Функция вызова окна результатов"
      ],
      "metadata": {
        "id": "5UihpzeJQ-AX"
      },
      "execution_count": null,
      "outputs": []
    },
    {
      "cell_type": "code",
      "source": [
        "def popup_window(n1,c1,n2,c2): # Дополнительное окно результатов\n",
        "    window = tk.Toplevel() #прочитать про эту функцию\n",
        "    window.geometry(\"500x500\")\n",
        "    window.title(\"А/В результат\")\n",
        "    "
      ],
      "metadata": {
        "id": "cvVGLU4SRN3P"
      },
      "execution_count": null,
      "outputs": []
    },
    {
      "cell_type": "markdown",
      "source": [
        "# Добавление окна вывода текста"
      ],
      "metadata": {
        "id": "txhLh8iORUmU"
      }
    },
    {
      "cell_type": "code",
      "source": [
        "txtOutput = tk.Text(window, font = ('Courier New', 10, 'bold'))\n",
        "    txtOutput.place(x=15, y=115, width=470, height=300)"
      ],
      "metadata": {
        "id": "dCznB6iTRaH2"
      },
      "execution_count": null,
      "outputs": []
    }
  ]
}